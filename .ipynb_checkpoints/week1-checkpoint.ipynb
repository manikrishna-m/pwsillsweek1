{
 "cells": [
  {
   "cell_type": "markdown",
   "id": "484f604a-5751-47cb-9c28-2bbd0e384497",
   "metadata": {},
   "source": [
    "## Q1. Create one variable containing following type of data:\n",
    "\n",
    "(i) string\n",
    "\n",
    "(ii) list\n",
    "\n",
    "(iii) float\n",
    "\n",
    "(iv) tuple"
   ]
  },
  {
   "cell_type": "code",
   "execution_count": 42,
   "id": "b2b43b95-a609-4bcd-b4de-1de9a6e0fd7f",
   "metadata": {},
   "outputs": [
    {
     "name": "stdout",
     "output_type": "stream",
     "text": [
      "pw2skills\n"
     ]
    }
   ],
   "source": [
    "s = \"pw2skills\"\n",
    "print(s)"
   ]
  },
  {
   "cell_type": "code",
   "execution_count": 43,
   "id": "b451ba68-3926-445a-a890-cb451024a5bb",
   "metadata": {},
   "outputs": [
    {
     "name": "stdout",
     "output_type": "stream",
     "text": [
      "['this', 'is', 'my', 'first', 'pwskills', 'week', '1']\n"
     ]
    }
   ],
   "source": [
    "l = [\"this\",\"is\",\"my\",\"first\",\"pwskills\",\"week\",\"1\"]\n",
    "print(l)"
   ]
  },
  {
   "cell_type": "code",
   "execution_count": 44,
   "id": "b8f9559b-3720-44d6-bf0c-86b95d502646",
   "metadata": {},
   "outputs": [
    {
     "name": "stdout",
     "output_type": "stream",
     "text": [
      "2.0\n"
     ]
    }
   ],
   "source": [
    "f = \"2.0\"\n",
    "print(f)"
   ]
  },
  {
   "cell_type": "code",
   "execution_count": 45,
   "id": "2eee4d2a-a30b-4214-9c50-46079e549dbe",
   "metadata": {},
   "outputs": [
    {
     "name": "stdout",
     "output_type": "stream",
     "text": [
      "('Hello', 'world')\n"
     ]
    }
   ],
   "source": [
    "t = (\"Hello\",\"world\")\n",
    "print(t)"
   ]
  },
  {
   "cell_type": "markdown",
   "id": "bb5d3061-a4a3-4854-9e98-835cbe2ed2b0",
   "metadata": {},
   "source": [
    "## Q2. Given are some following variables containing data:\n",
    "\n",
    "(i) var1 = ‘ ‘\n",
    "\n",
    "(ii) var2 = ‘[ DS , ML , Python]’\n",
    "\n",
    "(iii) var3 = [ ‘DS’ , ’ML’ , ‘Python’ ]\n",
    "\n",
    "(iv) var4 = 1."
   ]
  },
  {
   "cell_type": "markdown",
   "id": "8de8cc91-2d1c-4eaf-b933-f62c432d1677",
   "metadata": {},
   "source": [
    "### Answer\n",
    "\n",
    "i. String\n",
    "\n",
    "ii. String\n",
    "\n",
    "iii. List\n",
    "\n",
    "iv. Float"
   ]
  },
  {
   "cell_type": "markdown",
   "id": "60f25157-e98e-47b0-a38f-38f898a7d474",
   "metadata": {},
   "source": [
    "## Q3. Explain the use of the following operators using an example:\n",
    "(i) /\n",
    "\n",
    "(ii) %\n",
    "\n",
    "(iii) //\n",
    "\n",
    "(iv) **"
   ]
  },
  {
   "cell_type": "markdown",
   "id": "9619a87a-250f-4cae-bc17-28fe08159bd8",
   "metadata": {},
   "source": [
    "### Answers"
   ]
  },
  {
   "cell_type": "markdown",
   "id": "719197c1-7a24-4d4e-b3a6-b13cfaf3e5cf",
   "metadata": {},
   "source": [
    "i. Division Operator\n",
    "\n",
    "ii. Modulo Operator\n",
    "\n",
    "iii. Floor Division Operator\n",
    "\n",
    "iv. Power Operator"
   ]
  },
  {
   "cell_type": "markdown",
   "id": "9c4a1403-d099-4393-b632-fd26f0761044",
   "metadata": {},
   "source": [
    "## Q4. Create a list of length 10 of your choice containing multiple types of data. Using for loop print the element and its data type."
   ]
  },
  {
   "cell_type": "code",
   "execution_count": 46,
   "id": "8dc4babc-a72d-4660-b548-3a6dd0227954",
   "metadata": {},
   "outputs": [],
   "source": [
    "l = [1,2.0,\"mani\",\"mani krishna\", \"a\", 3+4j,[1,\"2\"],(1,\"2\"),\"fjdf\" , True]"
   ]
  },
  {
   "cell_type": "code",
   "execution_count": 47,
   "id": "11559f8f-bf72-4ac5-9661-c476b9e83761",
   "metadata": {},
   "outputs": [
    {
     "name": "stdout",
     "output_type": "stream",
     "text": [
      "1\n",
      "2.0\n",
      "mani\n",
      "mani krishna\n",
      "a\n",
      "(3+4j)\n",
      "[1, '2']\n",
      "(1, '2')\n",
      "fjdf\n",
      "True\n"
     ]
    }
   ],
   "source": [
    "for i in l:\n",
    "    print(i)"
   ]
  },
  {
   "cell_type": "markdown",
   "id": "04345527-fb15-4284-ae88-4afc4502366f",
   "metadata": {},
   "source": [
    "## Q5. Using a while loop, verify if the number A is purely divisible by number B and if so then how many times it can be divisible."
   ]
  },
  {
   "cell_type": "code",
   "execution_count": 48,
   "id": "8c3b5798-1ed6-45f5-87ee-2fb0597de179",
   "metadata": {},
   "outputs": [
    {
     "name": "stdout",
     "output_type": "stream",
     "text": [
      "5\n"
     ]
    }
   ],
   "source": [
    "a, b = 25, 5\n",
    "i = 0\n",
    "while(True):\n",
    "    if a == i * b :\n",
    "        break\n",
    "    else:\n",
    "        i= i+ 1\n",
    "print(i)"
   ]
  },
  {
   "cell_type": "markdown",
   "id": "39a608c9-1137-47ba-9924-e89df3e879c5",
   "metadata": {},
   "source": [
    "## Q6. Create a list containing 25 int type data. Using for loop and if-else condition print if the element is divisible by 3 or not."
   ]
  },
  {
   "cell_type": "code",
   "execution_count": 41,
   "id": "e74d3346-da18-4f5b-a3fb-6bcd6942e5b7",
   "metadata": {},
   "outputs": [
    {
     "name": "stdout",
     "output_type": "stream",
     "text": [
      "[0, 783, 336, 84, 198, 549, 447, 393, 762, 192]\n"
     ]
    }
   ],
   "source": [
    "import random\n",
    "l = [random.randint(0, 999) for _ in range(25)]\n",
    "a = [i for i in l if i%3 == 0]\n",
    "print(a)"
   ]
  },
  {
   "cell_type": "markdown",
   "id": "b3460d99-2019-40fd-a385-35aa81a9d50a",
   "metadata": {},
   "source": [
    "## Q7. What do you understand about mutable and immutable data types? Give examples for both showing this property."
   ]
  },
  {
   "cell_type": "code",
   "execution_count": null,
   "id": "e0edc46f-8453-4409-8762-bb006ac1de88",
   "metadata": {},
   "outputs": [],
   "source": []
  }
 ],
 "metadata": {
  "kernelspec": {
   "display_name": "Python 3 (ipykernel)",
   "language": "python",
   "name": "python3"
  },
  "language_info": {
   "codemirror_mode": {
    "name": "ipython",
    "version": 3
   },
   "file_extension": ".py",
   "mimetype": "text/x-python",
   "name": "python",
   "nbconvert_exporter": "python",
   "pygments_lexer": "ipython3",
   "version": "3.9.12"
  }
 },
 "nbformat": 4,
 "nbformat_minor": 5
}
